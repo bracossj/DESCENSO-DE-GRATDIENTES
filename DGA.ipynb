{
  "nbformat": 4,
  "nbformat_minor": 0,
  "metadata": {
    "colab": {
      "name": "DGA.ipynb",
      "provenance": []
    },
    "kernelspec": {
      "name": "python3",
      "display_name": "Python 3"
    },
    "language_info": {
      "name": "python"
    }
  },
  "cells": [
    {
      "cell_type": "code",
      "metadata": {
        "colab": {
          "base_uri": "https://localhost:8080/"
        },
        "id": "NOBt1mCPnuPw",
        "outputId": "99abbc07-2705-437b-fdc3-c79d1c632480"
      },
      "source": [
        "from torch import FloatTensor\n",
        "from torch.autograd import Variable\n",
        "import torch\n",
        " \n",
        "# Definimos los nodos\n",
        "a1 = Variable(FloatTensor([4]))\n",
        "a2 = Variable(FloatTensor([3]))\n",
        " \n",
        "# Definimos las variables con gradientes requeridos\n",
        "w=Variable(FloatTensor([2,5,9,7,3]), requires_grad=True)\n",
        " \n",
        "b1 = w[0] * a1 + w[1] * a2 #b1=2*4+5*3=23\n",
        "b2 = w[2] * a1 #b2=9*4=36\n",
        "c = w[3] * b1 + w[4] * b2\n",
        "L = (15 - c)\n",
        " \n",
        "L.backward()\n",
        " \n",
        "gradient = w.grad.data\n",
        "for i in range(0, 5):\n",
        "    print(f\"Gradiente de w{i} respecto a L: {gradient[i]}\")"
      ],
      "execution_count": null,
      "outputs": [
        {
          "output_type": "stream",
          "name": "stdout",
          "text": [
            "Gradiente de w0 respecto a L: -28.0\n",
            "Gradiente de w1 respecto a L: -21.0\n",
            "Gradiente de w2 respecto a L: -12.0\n",
            "Gradiente de w3 respecto a L: -23.0\n",
            "Gradiente de w4 respecto a L: -36.0\n"
          ]
        }
      ]
    }
  ]
}